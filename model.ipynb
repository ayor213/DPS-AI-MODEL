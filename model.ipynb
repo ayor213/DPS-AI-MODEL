{
  "cells": [
    {
      "cell_type": "code",
      "source": [
        "import pandas as pd\r\n",
        "import numpy as np\r\n",
        "df = pd.read_csv(\"accidents.csv\")"
      ],
      "outputs": [],
      "execution_count": 1,
      "metadata": {
        "gather": {
          "logged": 1656321615613
        }
      }
    },
    {
      "cell_type": "code",
      "source": [
        "df.head(2)"
      ],
      "outputs": [
        {
          "output_type": "execute_result",
          "execution_count": 2,
          "data": {
            "text/plain": "       MONATSZAHL AUSPRAEGUNG  JAHR   MONAT  WERT  VORJAHRESWERT  \\\n0  Alkoholunfälle   insgesamt  2022  202201   NaN           16.0   \n1  Alkoholunfälle   insgesamt  2022  202202   NaN           14.0   \n\n   VERAEND_VORMONAT_PROZENT  VERAEND_VORJAHRESMONAT_PROZENT  \\\n0                       NaN                             NaN   \n1                       NaN                             NaN   \n\n   ZWOELF_MONATE_MITTELWERT  \n0                       NaN  \n1                       NaN  ",
            "text/html": "<div>\n<style scoped>\n    .dataframe tbody tr th:only-of-type {\n        vertical-align: middle;\n    }\n\n    .dataframe tbody tr th {\n        vertical-align: top;\n    }\n\n    .dataframe thead th {\n        text-align: right;\n    }\n</style>\n<table border=\"1\" class=\"dataframe\">\n  <thead>\n    <tr style=\"text-align: right;\">\n      <th></th>\n      <th>MONATSZAHL</th>\n      <th>AUSPRAEGUNG</th>\n      <th>JAHR</th>\n      <th>MONAT</th>\n      <th>WERT</th>\n      <th>VORJAHRESWERT</th>\n      <th>VERAEND_VORMONAT_PROZENT</th>\n      <th>VERAEND_VORJAHRESMONAT_PROZENT</th>\n      <th>ZWOELF_MONATE_MITTELWERT</th>\n    </tr>\n  </thead>\n  <tbody>\n    <tr>\n      <th>0</th>\n      <td>Alkoholunfälle</td>\n      <td>insgesamt</td>\n      <td>2022</td>\n      <td>202201</td>\n      <td>NaN</td>\n      <td>16.0</td>\n      <td>NaN</td>\n      <td>NaN</td>\n      <td>NaN</td>\n    </tr>\n    <tr>\n      <th>1</th>\n      <td>Alkoholunfälle</td>\n      <td>insgesamt</td>\n      <td>2022</td>\n      <td>202202</td>\n      <td>NaN</td>\n      <td>14.0</td>\n      <td>NaN</td>\n      <td>NaN</td>\n      <td>NaN</td>\n    </tr>\n  </tbody>\n</table>\n</div>"
          },
          "metadata": {}
        }
      ],
      "execution_count": 2,
      "metadata": {
        "jupyter": {
          "source_hidden": false,
          "outputs_hidden": false
        },
        "nteract": {
          "transient": {
            "deleting": false
          }
        },
        "gather": {
          "logged": 1656321621430
        }
      }
    },
    {
      "cell_type": "code",
      "source": [
        "df2 = df.iloc[:, 0:5]"
      ],
      "outputs": [],
      "execution_count": 11,
      "metadata": {
        "jupyter": {
          "source_hidden": false,
          "outputs_hidden": false
        },
        "nteract": {
          "transient": {
            "deleting": false
          }
        },
        "gather": {
          "logged": 1656322075309
        }
      }
    },
    {
      "cell_type": "code",
      "source": [
        "df2"
      ],
      "outputs": [
        {
          "output_type": "execute_result",
          "execution_count": 12,
          "data": {
            "text/plain": "           MONATSZAHL             AUSPRAEGUNG  JAHR   MONAT   WERT\n0      Alkoholunfälle               insgesamt  2022  202201    NaN\n1      Alkoholunfälle               insgesamt  2022  202202    NaN\n2      Alkoholunfälle               insgesamt  2022  202203    NaN\n3      Alkoholunfälle               insgesamt  2022  202204    NaN\n4      Alkoholunfälle               insgesamt  2022  202205    NaN\n...               ...                     ...   ...     ...    ...\n2081  Verkehrsunfälle  Verletzte und Getötete  2000  200008  647.0\n2082  Verkehrsunfälle  Verletzte und Getötete  2000  200009  675.0\n2083  Verkehrsunfälle  Verletzte und Getötete  2000  200010  615.0\n2084  Verkehrsunfälle  Verletzte und Getötete  2000  200011  578.0\n2085  Verkehrsunfälle  Verletzte und Getötete  2000  200012  515.0\n\n[2086 rows x 5 columns]",
            "text/html": "<div>\n<style scoped>\n    .dataframe tbody tr th:only-of-type {\n        vertical-align: middle;\n    }\n\n    .dataframe tbody tr th {\n        vertical-align: top;\n    }\n\n    .dataframe thead th {\n        text-align: right;\n    }\n</style>\n<table border=\"1\" class=\"dataframe\">\n  <thead>\n    <tr style=\"text-align: right;\">\n      <th></th>\n      <th>MONATSZAHL</th>\n      <th>AUSPRAEGUNG</th>\n      <th>JAHR</th>\n      <th>MONAT</th>\n      <th>WERT</th>\n    </tr>\n  </thead>\n  <tbody>\n    <tr>\n      <th>0</th>\n      <td>Alkoholunfälle</td>\n      <td>insgesamt</td>\n      <td>2022</td>\n      <td>202201</td>\n      <td>NaN</td>\n    </tr>\n    <tr>\n      <th>1</th>\n      <td>Alkoholunfälle</td>\n      <td>insgesamt</td>\n      <td>2022</td>\n      <td>202202</td>\n      <td>NaN</td>\n    </tr>\n    <tr>\n      <th>2</th>\n      <td>Alkoholunfälle</td>\n      <td>insgesamt</td>\n      <td>2022</td>\n      <td>202203</td>\n      <td>NaN</td>\n    </tr>\n    <tr>\n      <th>3</th>\n      <td>Alkoholunfälle</td>\n      <td>insgesamt</td>\n      <td>2022</td>\n      <td>202204</td>\n      <td>NaN</td>\n    </tr>\n    <tr>\n      <th>4</th>\n      <td>Alkoholunfälle</td>\n      <td>insgesamt</td>\n      <td>2022</td>\n      <td>202205</td>\n      <td>NaN</td>\n    </tr>\n    <tr>\n      <th>...</th>\n      <td>...</td>\n      <td>...</td>\n      <td>...</td>\n      <td>...</td>\n      <td>...</td>\n    </tr>\n    <tr>\n      <th>2081</th>\n      <td>Verkehrsunfälle</td>\n      <td>Verletzte und Getötete</td>\n      <td>2000</td>\n      <td>200008</td>\n      <td>647.0</td>\n    </tr>\n    <tr>\n      <th>2082</th>\n      <td>Verkehrsunfälle</td>\n      <td>Verletzte und Getötete</td>\n      <td>2000</td>\n      <td>200009</td>\n      <td>675.0</td>\n    </tr>\n    <tr>\n      <th>2083</th>\n      <td>Verkehrsunfälle</td>\n      <td>Verletzte und Getötete</td>\n      <td>2000</td>\n      <td>200010</td>\n      <td>615.0</td>\n    </tr>\n    <tr>\n      <th>2084</th>\n      <td>Verkehrsunfälle</td>\n      <td>Verletzte und Getötete</td>\n      <td>2000</td>\n      <td>200011</td>\n      <td>578.0</td>\n    </tr>\n    <tr>\n      <th>2085</th>\n      <td>Verkehrsunfälle</td>\n      <td>Verletzte und Getötete</td>\n      <td>2000</td>\n      <td>200012</td>\n      <td>515.0</td>\n    </tr>\n  </tbody>\n</table>\n<p>2086 rows × 5 columns</p>\n</div>"
          },
          "metadata": {}
        }
      ],
      "execution_count": 12,
      "metadata": {
        "jupyter": {
          "source_hidden": false,
          "outputs_hidden": false
        },
        "nteract": {
          "transient": {
            "deleting": false
          }
        },
        "gather": {
          "logged": 1656322077641
        }
      }
    },
    {
      "cell_type": "code",
      "source": [
        "df3 = df2[df2['JAHR']< 2021]"
      ],
      "outputs": [],
      "execution_count": 13,
      "metadata": {
        "jupyter": {
          "source_hidden": false,
          "outputs_hidden": false
        },
        "nteract": {
          "transient": {
            "deleting": false
          }
        },
        "gather": {
          "logged": 1656322226345
        }
      }
    },
    {
      "cell_type": "code",
      "source": [
        "df3"
      ],
      "outputs": [
        {
          "output_type": "execute_result",
          "execution_count": 14,
          "data": {
            "text/plain": "           MONATSZAHL             AUSPRAEGUNG  JAHR   MONAT   WERT\n25     Alkoholunfälle               insgesamt  2020   Summe  430.0\n26     Alkoholunfälle               insgesamt  2020  202001   28.0\n27     Alkoholunfälle               insgesamt  2020  202002   40.0\n28     Alkoholunfälle               insgesamt  2020  202003   27.0\n29     Alkoholunfälle               insgesamt  2020  202004   26.0\n...               ...                     ...   ...     ...    ...\n2081  Verkehrsunfälle  Verletzte und Getötete  2000  200008  647.0\n2082  Verkehrsunfälle  Verletzte und Getötete  2000  200009  675.0\n2083  Verkehrsunfälle  Verletzte und Getötete  2000  200010  615.0\n2084  Verkehrsunfälle  Verletzte und Getötete  2000  200011  578.0\n2085  Verkehrsunfälle  Verletzte und Getötete  2000  200012  515.0\n\n[1911 rows x 5 columns]",
            "text/html": "<div>\n<style scoped>\n    .dataframe tbody tr th:only-of-type {\n        vertical-align: middle;\n    }\n\n    .dataframe tbody tr th {\n        vertical-align: top;\n    }\n\n    .dataframe thead th {\n        text-align: right;\n    }\n</style>\n<table border=\"1\" class=\"dataframe\">\n  <thead>\n    <tr style=\"text-align: right;\">\n      <th></th>\n      <th>MONATSZAHL</th>\n      <th>AUSPRAEGUNG</th>\n      <th>JAHR</th>\n      <th>MONAT</th>\n      <th>WERT</th>\n    </tr>\n  </thead>\n  <tbody>\n    <tr>\n      <th>25</th>\n      <td>Alkoholunfälle</td>\n      <td>insgesamt</td>\n      <td>2020</td>\n      <td>Summe</td>\n      <td>430.0</td>\n    </tr>\n    <tr>\n      <th>26</th>\n      <td>Alkoholunfälle</td>\n      <td>insgesamt</td>\n      <td>2020</td>\n      <td>202001</td>\n      <td>28.0</td>\n    </tr>\n    <tr>\n      <th>27</th>\n      <td>Alkoholunfälle</td>\n      <td>insgesamt</td>\n      <td>2020</td>\n      <td>202002</td>\n      <td>40.0</td>\n    </tr>\n    <tr>\n      <th>28</th>\n      <td>Alkoholunfälle</td>\n      <td>insgesamt</td>\n      <td>2020</td>\n      <td>202003</td>\n      <td>27.0</td>\n    </tr>\n    <tr>\n      <th>29</th>\n      <td>Alkoholunfälle</td>\n      <td>insgesamt</td>\n      <td>2020</td>\n      <td>202004</td>\n      <td>26.0</td>\n    </tr>\n    <tr>\n      <th>...</th>\n      <td>...</td>\n      <td>...</td>\n      <td>...</td>\n      <td>...</td>\n      <td>...</td>\n    </tr>\n    <tr>\n      <th>2081</th>\n      <td>Verkehrsunfälle</td>\n      <td>Verletzte und Getötete</td>\n      <td>2000</td>\n      <td>200008</td>\n      <td>647.0</td>\n    </tr>\n    <tr>\n      <th>2082</th>\n      <td>Verkehrsunfälle</td>\n      <td>Verletzte und Getötete</td>\n      <td>2000</td>\n      <td>200009</td>\n      <td>675.0</td>\n    </tr>\n    <tr>\n      <th>2083</th>\n      <td>Verkehrsunfälle</td>\n      <td>Verletzte und Getötete</td>\n      <td>2000</td>\n      <td>200010</td>\n      <td>615.0</td>\n    </tr>\n    <tr>\n      <th>2084</th>\n      <td>Verkehrsunfälle</td>\n      <td>Verletzte und Getötete</td>\n      <td>2000</td>\n      <td>200011</td>\n      <td>578.0</td>\n    </tr>\n    <tr>\n      <th>2085</th>\n      <td>Verkehrsunfälle</td>\n      <td>Verletzte und Getötete</td>\n      <td>2000</td>\n      <td>200012</td>\n      <td>515.0</td>\n    </tr>\n  </tbody>\n</table>\n<p>1911 rows × 5 columns</p>\n</div>"
          },
          "metadata": {}
        }
      ],
      "execution_count": 14,
      "metadata": {
        "jupyter": {
          "source_hidden": false,
          "outputs_hidden": false
        },
        "nteract": {
          "transient": {
            "deleting": false
          }
        },
        "gather": {
          "logged": 1656322233923
        }
      }
    },
    {
      "cell_type": "code",
      "source": [
        "df4= df3[df3['MONATSZAHL']== 'Alkoholunfälle']\r\n",
        "df4"
      ],
      "outputs": [
        {
          "output_type": "execute_result",
          "execution_count": 18,
          "data": {
            "text/plain": "         MONATSZAHL             AUSPRAEGUNG  JAHR   MONAT   WERT\n25   Alkoholunfälle               insgesamt  2020   Summe  430.0\n26   Alkoholunfälle               insgesamt  2020  202001   28.0\n27   Alkoholunfälle               insgesamt  2020  202002   40.0\n28   Alkoholunfälle               insgesamt  2020  202003   27.0\n29   Alkoholunfälle               insgesamt  2020  202004   26.0\n..              ...                     ...   ...     ...    ...\n591  Alkoholunfälle  Verletzte und Getötete  2000  200008   32.0\n592  Alkoholunfälle  Verletzte und Getötete  2000  200009   45.0\n593  Alkoholunfälle  Verletzte und Getötete  2000  200010   31.0\n594  Alkoholunfälle  Verletzte und Getötete  2000  200011   24.0\n595  Alkoholunfälle  Verletzte und Getötete  2000  200012   31.0\n\n[546 rows x 5 columns]",
            "text/html": "<div>\n<style scoped>\n    .dataframe tbody tr th:only-of-type {\n        vertical-align: middle;\n    }\n\n    .dataframe tbody tr th {\n        vertical-align: top;\n    }\n\n    .dataframe thead th {\n        text-align: right;\n    }\n</style>\n<table border=\"1\" class=\"dataframe\">\n  <thead>\n    <tr style=\"text-align: right;\">\n      <th></th>\n      <th>MONATSZAHL</th>\n      <th>AUSPRAEGUNG</th>\n      <th>JAHR</th>\n      <th>MONAT</th>\n      <th>WERT</th>\n    </tr>\n  </thead>\n  <tbody>\n    <tr>\n      <th>25</th>\n      <td>Alkoholunfälle</td>\n      <td>insgesamt</td>\n      <td>2020</td>\n      <td>Summe</td>\n      <td>430.0</td>\n    </tr>\n    <tr>\n      <th>26</th>\n      <td>Alkoholunfälle</td>\n      <td>insgesamt</td>\n      <td>2020</td>\n      <td>202001</td>\n      <td>28.0</td>\n    </tr>\n    <tr>\n      <th>27</th>\n      <td>Alkoholunfälle</td>\n      <td>insgesamt</td>\n      <td>2020</td>\n      <td>202002</td>\n      <td>40.0</td>\n    </tr>\n    <tr>\n      <th>28</th>\n      <td>Alkoholunfälle</td>\n      <td>insgesamt</td>\n      <td>2020</td>\n      <td>202003</td>\n      <td>27.0</td>\n    </tr>\n    <tr>\n      <th>29</th>\n      <td>Alkoholunfälle</td>\n      <td>insgesamt</td>\n      <td>2020</td>\n      <td>202004</td>\n      <td>26.0</td>\n    </tr>\n    <tr>\n      <th>...</th>\n      <td>...</td>\n      <td>...</td>\n      <td>...</td>\n      <td>...</td>\n      <td>...</td>\n    </tr>\n    <tr>\n      <th>591</th>\n      <td>Alkoholunfälle</td>\n      <td>Verletzte und Getötete</td>\n      <td>2000</td>\n      <td>200008</td>\n      <td>32.0</td>\n    </tr>\n    <tr>\n      <th>592</th>\n      <td>Alkoholunfälle</td>\n      <td>Verletzte und Getötete</td>\n      <td>2000</td>\n      <td>200009</td>\n      <td>45.0</td>\n    </tr>\n    <tr>\n      <th>593</th>\n      <td>Alkoholunfälle</td>\n      <td>Verletzte und Getötete</td>\n      <td>2000</td>\n      <td>200010</td>\n      <td>31.0</td>\n    </tr>\n    <tr>\n      <th>594</th>\n      <td>Alkoholunfälle</td>\n      <td>Verletzte und Getötete</td>\n      <td>2000</td>\n      <td>200011</td>\n      <td>24.0</td>\n    </tr>\n    <tr>\n      <th>595</th>\n      <td>Alkoholunfälle</td>\n      <td>Verletzte und Getötete</td>\n      <td>2000</td>\n      <td>200012</td>\n      <td>31.0</td>\n    </tr>\n  </tbody>\n</table>\n<p>546 rows × 5 columns</p>\n</div>"
          },
          "metadata": {}
        }
      ],
      "execution_count": 18,
      "metadata": {
        "jupyter": {
          "source_hidden": false,
          "outputs_hidden": false
        },
        "nteract": {
          "transient": {
            "deleting": false
          }
        },
        "gather": {
          "logged": 1656322390383
        }
      }
    },
    {
      "cell_type": "code",
      "source": [
        "df4.to_csv('accidents_cleaned.csv')"
      ],
      "outputs": [],
      "execution_count": 26,
      "metadata": {
        "jupyter": {
          "source_hidden": false,
          "outputs_hidden": true
        },
        "nteract": {
          "transient": {
            "deleting": false
          }
        },
        "gather": {
          "logged": 1656322693755
        }
      }
    }
  ],
  "metadata": {
    "kernelspec": {
      "name": "python38-azureml",
      "language": "python",
      "display_name": "Python 3.8 - AzureML"
    },
    "language_info": {
      "name": "python",
      "version": "3.8.5",
      "mimetype": "text/x-python",
      "codemirror_mode": {
        "name": "ipython",
        "version": 3
      },
      "pygments_lexer": "ipython3",
      "nbconvert_exporter": "python",
      "file_extension": ".py"
    },
    "kernel_info": {
      "name": "python38-azureml"
    },
    "microsoft": {
      "host": {
        "AzureML": {
          "notebookHasBeenCompleted": true
        }
      }
    },
    "nteract": {
      "version": "nteract-front-end@1.0.0"
    }
  },
  "nbformat": 4,
  "nbformat_minor": 2
}